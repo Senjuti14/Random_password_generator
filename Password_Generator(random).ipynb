{
 "cells": [
  {
   "cell_type": "code",
   "execution_count": null,
   "metadata": {},
   "outputs": [],
   "source": [
    "# Generating a random password \n",
    "\n",
    "import random \n",
    "\n",
    "#First to generate a password which has all uppercase letters\n",
    "\n",
    "password=\"\" #create an empty string\n",
    "for letters in range(8):\n",
    "    letters= chr(random.randint(70, 90))\n",
    "    password= str(password) + letters\n",
    "print (password)\n",
    "\n",
    "#to generate a password which has all lowercase letters\n",
    "\n",
    "password=\"\" #create an empty string\n",
    "for letters in range(8):\n",
    "    letters= chr(random.randint(70, 90)).lower()\n",
    "    password= str(password) + letters\n",
    "print (password)\n",
    "\n",
    "#to generate a password which has all lower and uppercase letters\n",
    "\n",
    "password=\"\" #create an empty string\n",
    "for letters in range(6):\n",
    "    letters= chr(random.randint(70, 90))\n",
    "    for letter in range(6):\n",
    "        letter=chr(random.randint(70, 90)).lower()\n",
    "    password= str(password) + letters + letter\n",
    "print (password)\n",
    "\n",
    "#to generate a password which has both letters and integers\n",
    "\n",
    "password=\"\" #create an empty string\n",
    "for letters in range(3):\n",
    "    letters= chr(random.randint(70, 90))\n",
    "    for letter in range(6):\n",
    "        letter=chr(random.randint(70, 90)).lower()\n",
    "    for number in range(6):\n",
    "        number= random.randint(0,10)\n",
    "    password= str(password) + letters + letter + str(number)\n",
    "print (password)\n",
    "\n"
   ]
  },
  {
   "cell_type": "code",
   "execution_count": null,
   "metadata": {},
   "outputs": [],
   "source": []
  },
  {
   "cell_type": "code",
   "execution_count": null,
   "metadata": {},
   "outputs": [],
   "source": []
  },
  {
   "cell_type": "code",
   "execution_count": null,
   "metadata": {},
   "outputs": [],
   "source": []
  }
 ],
 "metadata": {
  "kernelspec": {
   "display_name": "Python 3",
   "language": "python",
   "name": "python3"
  },
  "language_info": {
   "codemirror_mode": {
    "name": "ipython",
    "version": 3
   },
   "file_extension": ".py",
   "mimetype": "text/x-python",
   "name": "python",
   "nbconvert_exporter": "python",
   "pygments_lexer": "ipython3",
   "version": "3.7.6"
  }
 },
 "nbformat": 4,
 "nbformat_minor": 4
}
